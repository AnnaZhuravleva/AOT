{
 "cells": [
  {
   "cell_type": "code",
   "execution_count": 1,
   "metadata": {},
   "outputs": [
    {
     "name": "stderr",
     "output_type": "stream",
     "text": [
      "[nltk_data] Downloading package stopwords to\n",
      "[nltk_data]     C:\\Users\\qwe\\AppData\\Roaming\\nltk_data...\n",
      "[nltk_data]   Package stopwords is already up-to-date!\n"
     ]
    }
   ],
   "source": [
    "import os\n",
    "import nltk\n",
    "from pymorphy2 import MorphAnalyzer\n",
    "pmm = MorphAnalyzer()\n",
    "from nltk.tokenize import RegexpTokenizer\n",
    "from pymorphy2.tokenizers import simple_word_tokenize\n",
    "tokenizer = RegexpTokenizer(r'\\w+')\n",
    "\n",
    "import RAKE\n",
    "import numpy as np\n",
    "nltk.download('stopwords')\n",
    "from nltk.corpus import stopwords\n",
    "stop = stopwords.words('russian')\n",
    "rake = RAKE.Rake(stop)\n",
    "from summa import keywords\n",
    "import sklearn\n",
    "from sklearn.feature_extraction.text import TfidfVectorizer\n",
    "from gensim.summarization import keywords as kw\n",
    "from nltk.parse import DependencyGraph\n",
    "from collections import Counter\n",
    "import nltk\n",
    "from nltk.collocations import *\n",
    "\n",
    "def normalize_text(text):\n",
    "    text = tokenizer.tokenize(text.lower())\n",
    "    lemmas = [pmm.parse(t)[0].normal_form for t in text]\n",
    "    return ' '.join(lemmas)"
   ]
  },
  {
   "cell_type": "code",
   "execution_count": 2,
   "metadata": {},
   "outputs": [],
   "source": [
    "# !C:\\Users\\qwe\\Desktop\\cosyco\\udpipe\\udpipe-1.2.0-bin\\bin-win64\\udpipe --input horizontal --output conllu \\\n",
    "# --tokenize --tag --parse \\\n",
    "# C:\\Users\\qwe\\Desktop\\cosyco\\udpipe\\russian-syntagrus-ud-2.4-190531.udpipe < testset2.txt > text.conllu"
   ]
  },
  {
   "cell_type": "code",
   "execution_count": 3,
   "metadata": {},
   "outputs": [
    {
     "name": "stdout",
     "output_type": "stream",
     "text": [
      "1\t20\t20\tNUM\t_\t_\t4\tnummod\t_\t_\n",
      "2\tноября\tноябрь\tNOUN\t_\tAnimacy=Inan|Case=Gen|Gender=Masc|Number=Sing\t1\tflat\t_\t_\n",
      "3\tон\tон\tPRON\t_\tCase=Nom|Gender=Masc|Number=Sing|Person=3\t4\tnsubj\t_\t_\n",
      "4\tподал\tподать\tVERB\t_\tAspect=Perf|Gender=Masc|Mood=Ind|Number=Sing|Tense=Past|VerbForm=Fin|Voice=Act\t0\troot\t_\t_\n",
      "5\tв\tв\tADP\t_\t_\t7\tcase\t_\t_\n",
      "6\tарбитражный\tарбитражный\tADJ\t_\tAnimacy=Inan|Case=Acc|Degree=Pos|Gender=Masc|Number=Sing\t7\tamod\t_\t_\n",
      "7\tсуд\tсуд\tNOUN\t_\tAnimacy=Inan|Case=Acc|Gender=Masc|Number=Sing\t4\tobl\t_\t_\n",
      "8\tМосквы\tМосква\tPROPN\t_\tAnimacy=Inan|Case=Gen|Gender=Fem|Number=Sing\t7\tnmod\t_\t_\n",
      "9\tиск\tиск\tNOUN\t_\tAnimacy=Inan|Case=Acc|Gender=Masc|Number=Sing\t4\tobj\t_\tSpaceAfter=No\n",
      "10\t,\t,\tPUNCT\t_\t_\t13\tpunct\t_\t_\n",
      "11\tв\tв\tADP\t_\t_\t12\tcase\t_\t_\n",
      "12\tкотором\tкоторый\tPRON\t_\tCase=Loc\t13\tobl\t_\t_\n",
      "13\tпросит\tпросить\tVERB\t_\tAspect=Imp|Mood=Ind|Number=Sing|Person=3|Tense=Pres|VerbForm=Fin|Voice=Act\t9\tacl:relcl\t_\t_\n",
      "14\tпризнать\tпризнать\tVERB\t_\tAspect=Perf|VerbForm=Inf|Voice=Act\t13\txcomp\t_\t_\n",
      "15\tнедействительным\tнедействительный\tADJ\t_\tCase=Ins|Degree=Pos|Gender=Masc|Number=Sing\t16\tamod\t_\t_\n",
      "16\tдоговор\tдоговор\tNOUN\t_\tAnimacy=Inan|Case=Acc|Gender=Masc|Number=Sing\t14\tobj\t_\t_\n",
      "17\tо\tо\tADP\t_\t_\t18\tcase\t_\t_\n",
      "18\tприсоединении\tприсоединение\tNOUN\t_\tAnimacy=Inan|Case=Loc|Gender=Neut|Number=Sing\t16\tnmod\t_\t_\n",
      "19\tИмпэксбанка\tИмпэксбанк\tPROPN\t_\tAnimacy=Inan|Case=Gen|Gender=Masc|Number=Sing\t18\tnmod\t_\t_\n",
      "20\tк\tк\tADP\t_\t_\t21\tcase\t_\t_\n",
      "21\tРайффайзенбанку\tРайффайзенбанка\tPROPN\t_\tAnimacy=Inan|Case=Dat|Gender=Masc|Number=Sing\t18\tnmod\t_\tSpaceAfter=No\n",
      "22\t.\t.\tPUNCT\t_\t_\t4\tpunct\t_\tSpacesAfter=\\r\\n\\t\n"
     ]
    }
   ],
   "source": [
    "trees = []\n",
    "with open('text.conllu', 'r', encoding='utf-8') as f:\n",
    "    parsed_sents = f.read().split('\\n\\n')\n",
    "    \n",
    "    for sent in parsed_sents:\n",
    "        tree = [line for line in sent.split('\\n') if line and line[0] != '#']\n",
    "        trees.append('\\n'.join(tree))\n",
    "        \n",
    "\n",
    "print(trees[2])"
   ]
  },
  {
   "cell_type": "code",
   "execution_count": 4,
   "metadata": {},
   "outputs": [
    {
     "name": "stdout",
     "output_type": "stream",
     "text": [
      "['обвинить', 'мочь', 'признать', 'подать', 'заявить', 'сообщить', 'стать', 'удовлетворить', 'требовать', 'вынести', 'считать', 'принять', 'просить', 'обратиться', 'говорить', 'быть', 'получить', 'приговорить', 'обвинять', 'отказаться', 'находиться', 'являться', 'направить', 'обжаловать', 'рассматривать', 'сказать', 'напомнить', 'предъявить', 'иметь', 'подтвердить', 'рассмотреть', 'пытаться', 'решить', 'отменить', 'арестовывать', 'делать', 'начаться', 'объявить', 'утверждать', 'дать', 'отклонить', 'передать', 'нет', 'оспорить', 'назначить', 'провести', 'согласиться', 'взыскать', 'оказаться', 'удаться', 'оставить', 'отказать', 'выплатить', 'обязать', 'пояснить', 'использовать', 'доказать', 'связать', 'счесть', 'запретить', 'рассказать', 'постановить', 'принадлежать', 'оспаривать', 'пройти']\n"
     ]
    }
   ],
   "source": [
    "verb_freq = Counter()\n",
    "for one_tree in trees:\n",
    "    try:\n",
    "        g = DependencyGraph(one_tree, top_relation_label='root')\n",
    "        for n in g.nodes:\n",
    "            if g.nodes[n]['ctag'] == 'VERB':\n",
    "                verb_freq[g.nodes[n]['lemma']] += 1\n",
    "    except:\n",
    "        pass\n",
    "verb_freq_50 = [item[0] for item in verb_freq.most_common() if item[1] >= 50]\n",
    "print(verb_freq_50)"
   ]
  },
  {
   "cell_type": "code",
   "execution_count": 5,
   "metadata": {},
   "outputs": [],
   "source": [
    "#bigrams = Counter()\n",
    "bigrams = []\n",
    "all_triples = Counter()\n",
    "for one_tree in trees:\n",
    "    try:\n",
    "        g = DependencyGraph(one_tree, top_relation_label='root')\n",
    "        for item in g.triples():\n",
    "            all_triples[tuple([item[0][0], item[2][0]])] += 1\n",
    "            if item[1] == 'obj' and item[2][1] == 'NOUN':\n",
    "                lemma = normalize_text(item[0][0])\n",
    "                if lemma in verb_freq_50:\n",
    "                    coll = tuple([normalize_text(item[0][0]), \n",
    "                                  normalize_text(item[2][0])])\n",
    "                    bigrams.append(coll)\n",
    "                    # bigrams[tuple([item[0][0], item[2][0]])] += 1\n",
    "    except:\n",
    "        pass"
   ]
  },
  {
   "cell_type": "code",
   "execution_count": 20,
   "metadata": {},
   "outputs": [
    {
     "data": {
      "text/plain": [
       "[('подать', 'иск'),\n",
       " ('признать', 'договор'),\n",
       " ('рассмотреть', 'вопрос'),\n",
       " ('обвинить', 'руководство'),\n",
       " ('получить', 'срок'),\n",
       " ('обвинить', 'олигарх'),\n",
       " ('направить', 'ведомство'),\n",
       " ('просить', 'суд'),\n",
       " ('рассматривать', 'ходатайство'),\n",
       " ('отказать', 'жалоба'),\n",
       " ('иметь', 'вид'),\n",
       " ('оставить', 'заключение'),\n",
       " ('дать', 'согласие'),\n",
       " ('признать', 'сделка'),\n",
       " ('обвинить', 'господин'),\n",
       " ('удовлетворить', 'жалоба'),\n",
       " ('вынести', 'постановление'),\n",
       " ('получить', 'доля'),\n",
       " ('вынести', 'приговор'),\n",
       " ('признать', 'сделка')]"
      ]
     },
     "execution_count": 20,
     "metadata": {},
     "output_type": "execute_result"
    }
   ],
   "source": [
    "bigrams[:20]"
   ]
  },
  {
   "cell_type": "code",
   "execution_count": 21,
   "metadata": {},
   "outputs": [
    {
     "data": {
      "text/plain": [
       "(1976,\n",
       " [('подать', 'иск'),\n",
       "  ('признать', 'договор'),\n",
       "  ('рассмотреть', 'вопрос'),\n",
       "  ('обвинить', 'руководство'),\n",
       "  ('получить', 'срок'),\n",
       "  ('обвинить', 'олигарх'),\n",
       "  ('направить', 'ведомство'),\n",
       "  ('просить', 'суд'),\n",
       "  ('рассматривать', 'ходатайство'),\n",
       "  ('отказать', 'жалоба'),\n",
       "  ('иметь', 'вид'),\n",
       "  ('оставить', 'заключение'),\n",
       "  ('дать', 'согласие'),\n",
       "  ('признать', 'сделка'),\n",
       "  ('обвинить', 'господин'),\n",
       "  ('удовлетворить', 'жалоба'),\n",
       "  ('вынести', 'постановление'),\n",
       "  ('получить', 'доля'),\n",
       "  ('вынести', 'приговор'),\n",
       "  ('признать', 'сделка')])"
      ]
     },
     "execution_count": 21,
     "metadata": {},
     "output_type": "execute_result"
    }
   ],
   "source": [
    "collocations = [i for i in bigrams]\n",
    "len(collocations), collocations[:20]"
   ]
  },
  {
   "cell_type": "code",
   "execution_count": 8,
   "metadata": {},
   "outputs": [],
   "source": [
    "bigram_measures = nltk.collocations.BigramAssocMeasures()\n",
    "finder = BigramCollocationFinder.from_documents(collocations)\n",
    "finder.apply_word_filter(lambda w: len(w) < 3 or w.lower() in nltk.corpus.stopwords.words('russian'))"
   ]
  },
  {
   "cell_type": "code",
   "execution_count": 36,
   "metadata": {},
   "outputs": [],
   "source": [
    "#finder.nbest(bigram_measures.likelihood_ratio, 100)\n",
    "loglike_scores = {i[0]:i[1] for i in finder.score_ngrams(bigram_measures.likelihood_ratio)}\n",
    "pmi_scores = {i[0]:i[1] for i in finder.score_ngrams(bigram_measures.pmi)}\n",
    "dice_scores = {i[0]:i[1] for i in finder.score_ngrams(bigram_measures.dice)}"
   ]
  },
  {
   "cell_type": "code",
   "execution_count": 12,
   "metadata": {},
   "outputs": [],
   "source": [
    "pmi_100 = finder.nbest(bigram_measures.pmi, 100)\n",
    "loglike_100 = finder.nbest(bigram_measures.likelihood_ratio, 100)\n",
    "dice_100 =  finder.nbest(bigram_measures.dice, 100)\n",
    "\n",
    "three_metrics = set(pmi_100) & set(loglike_100) & set(dice_100)"
   ]
  },
  {
   "cell_type": "code",
   "execution_count": 13,
   "metadata": {},
   "outputs": [
    {
     "data": {
      "text/plain": [
       "{('взыскать', 'задолженность'),\n",
       " ('взыскать', 'неустойка'),\n",
       " ('выплатить', 'иркутянин'),\n",
       " ('делать', 'вид'),\n",
       " ('делать', 'вывод'),\n",
       " ('доказать', 'невиновность'),\n",
       " ('доказать', 'незаконность'),\n",
       " ('запретить', 'деятельность'),\n",
       " ('заявить', 'отвод'),\n",
       " ('назначить', 'наказание'),\n",
       " ('напомнить', 'основание'),\n",
       " ('объявить', 'голодовка'),\n",
       " ('объявить', 'перерыв'),\n",
       " ('объявить', 'предприниматель'),\n",
       " ('обязать', 'прокуратура'),\n",
       " ('отказать', 'оао'),\n",
       " ('пройти', 'прение'),\n",
       " ('решить', 'проблема')}"
      ]
     },
     "execution_count": 13,
     "metadata": {},
     "output_type": "execute_result"
    }
   ],
   "source": [
    "three_metrics"
   ]
  },
  {
   "cell_type": "code",
   "execution_count": 14,
   "metadata": {},
   "outputs": [],
   "source": [
    "with open('verb_coll.txt', 'r', encoding='utf-8') as verb_coll:\n",
    "    verb_colls = verb_coll.read().split('\\n')\n",
    "\n",
    "verb_colls = [t.split('\\t')[-1] for t in verb_colls]\n",
    "verb_colls = [tuple(normalize_text(t).split()) for t in verb_colls]\n"
   ]
  },
  {
   "cell_type": "code",
   "execution_count": 15,
   "metadata": {},
   "outputs": [],
   "source": [
    "Gold =set(verb_colls) & set(pmi_100) & set(loglike_100) & set(dice_100)"
   ]
  },
  {
   "cell_type": "code",
   "execution_count": 16,
   "metadata": {},
   "outputs": [
    {
     "data": {
      "text/plain": [
       "{('делать', 'вид'),\n",
       " ('делать', 'вывод'),\n",
       " ('объявить', 'перерыв'),\n",
       " ('решить', 'проблема')}"
      ]
     },
     "execution_count": 16,
     "metadata": {},
     "output_type": "execute_result"
    }
   ],
   "source": [
    "Gold"
   ]
  },
  {
   "cell_type": "code",
   "execution_count": 17,
   "metadata": {},
   "outputs": [
    {
     "data": {
      "text/plain": [
       "{('взыскать', 'задолженность'),\n",
       " ('взыскать', 'неустойка'),\n",
       " ('выплатить', 'иркутянин'),\n",
       " ('доказать', 'невиновность'),\n",
       " ('доказать', 'незаконность'),\n",
       " ('запретить', 'деятельность'),\n",
       " ('заявить', 'отвод'),\n",
       " ('назначить', 'наказание'),\n",
       " ('напомнить', 'основание'),\n",
       " ('объявить', 'голодовка'),\n",
       " ('объявить', 'предприниматель'),\n",
       " ('обязать', 'прокуратура'),\n",
       " ('отказать', 'оао'),\n",
       " ('пройти', 'прение')}"
      ]
     },
     "execution_count": 17,
     "metadata": {},
     "output_type": "execute_result"
    }
   ],
   "source": [
    "three_metrics - Gold"
   ]
  },
  {
   "cell_type": "markdown",
   "metadata": {},
   "source": [
    "К ЗС можно было бы добавить следующие коллокации:\n",
    "\n",
    "* Объявить голодовку\n",
    "* заявить отвод\n",
    "* взыскать неустойку\n",
    "\n",
    "Критерием выделения коллокаций можно считать их фразеологичность и ограниченную сочетаемость составляющих коллокацию слов. Т.е чтобы проверить, является ли словосочетание коллокацией, нужно попробовать заменить слова\n",
    "\n",
    "Попробуем: \n",
    "\n",
    "* *сказать/проговорить/пообещать/заявить/прокричать голодовку\n",
    "* *объявить/сказать/проговорить отвод\n",
    "* ?собрать/взять/забрать неустойку (сказать что-то типа потребовать неустойку, наверное, можно, но взыскать неустойку звучит привычнее)\n"
   ]
  },
  {
   "cell_type": "code",
   "execution_count": 18,
   "metadata": {},
   "outputs": [],
   "source": [
    "Gold |= set([('взыскать', 'неустойка'), ('заявить', 'отвод'), ('объявить', 'голодовка') ])"
   ]
  },
  {
   "cell_type": "code",
   "execution_count": 19,
   "metadata": {},
   "outputs": [
    {
     "data": {
      "text/plain": [
       "{('взыскать', 'неустойка'),\n",
       " ('делать', 'вид'),\n",
       " ('делать', 'вывод'),\n",
       " ('заявить', 'отвод'),\n",
       " ('объявить', 'голодовка'),\n",
       " ('объявить', 'перерыв'),\n",
       " ('решить', 'проблема')}"
      ]
     },
     "execution_count": 19,
     "metadata": {},
     "output_type": "execute_result"
    }
   ],
   "source": [
    "Gold"
   ]
  },
  {
   "cell_type": "code",
   "execution_count": 33,
   "metadata": {},
   "outputs": [],
   "source": [
    "data1 = dict.fromkeys(Gold)\n"
   ]
  },
  {
   "cell_type": "code",
   "execution_count": 38,
   "metadata": {},
   "outputs": [],
   "source": [
    "for colloc in data1:\n",
    "    data1[colloc] = np.mean([pmi_scores[colloc], loglike_scores[colloc], dice_scores[colloc]])"
   ]
  },
  {
   "cell_type": "code",
   "execution_count": 39,
   "metadata": {},
   "outputs": [
    {
     "data": {
      "text/plain": [
       "{('заявить', 'отвод'): 18.33177330198686,\n",
       " ('делать', 'вид'): 10.089313879026161,\n",
       " ('объявить', 'голодовка'): 14.788423992270017,\n",
       " ('решить', 'проблема'): 16.42606985350613,\n",
       " ('делать', 'вывод'): 13.486930467315231,\n",
       " ('объявить', 'перерыв'): 10.729985733495127,\n",
       " ('взыскать', 'неустойка'): 10.283614644498513}"
      ]
     },
     "execution_count": 39,
     "metadata": {},
     "output_type": "execute_result"
    }
   ],
   "source": [
    "data1"
   ]
  },
  {
   "cell_type": "code",
   "execution_count": null,
   "metadata": {},
   "outputs": [],
   "source": []
  },
  {
   "cell_type": "code",
   "execution_count": null,
   "metadata": {},
   "outputs": [],
   "source": []
  }
 ],
 "metadata": {
  "kernelspec": {
   "display_name": "Python 3",
   "language": "python",
   "name": "python3"
  },
  "language_info": {
   "codemirror_mode": {
    "name": "ipython",
    "version": 3
   },
   "file_extension": ".py",
   "mimetype": "text/x-python",
   "name": "python",
   "nbconvert_exporter": "python",
   "pygments_lexer": "ipython3",
   "version": "3.7.4"
  }
 },
 "nbformat": 4,
 "nbformat_minor": 2
}
